{
 "cells": [
  {
   "cell_type": "markdown",
   "id": "d601aca4-74ff-4577-9737-327272482967",
   "metadata": {},
   "source": [
    "# IBM's Qiskit Global Summer School 2024\n",
    "\n",
    "## Lab 3 - Quantum Error Suppression and Mitigation with Qiskit Runtime"
   ]
  },
  {
   "cell_type": "markdown",
   "id": "43414819-8f0d-4a45-a17b-3eeadf5ee0c5",
   "metadata": {},
   "source": [
    "In this lab, you will explore the error suppression and error mitigation options available with the Estimator primitive from Qiskit Runtime. You will construct a circuit and observables and submit jobs using the Estimator primitive using different combinations of error mitigation settings. Then, you will plot the results to observe the effects of the various settings.\n",
    "\n",
    "These are the error suppression and mitigation options you will use:\n",
    "\n",
    "- Dynamical decoupling\n",
    "- Measurement error mitigation\n",
    "- Gate twirling\n",
    "- Zero noise extrapolation (ZNE)"
   ]
  },
  {
   "cell_type": "code",
   "execution_count": 56,
   "id": "95e621f7",
   "metadata": {},
   "outputs": [],
   "source": [
    "from qc_grader.challenges.qgss_2024 import *"
   ]
  },
  {
   "cell_type": "markdown",
   "id": "8662873e-82a6-4b54-8e53-8681ec46c7e9",
   "metadata": {},
   "source": [
    "### Quantum problem (circuit and observables)"
   ]
  },
  {
   "cell_type": "markdown",
   "id": "f2cd771c-c282-4275-861e-97a1106c2fb5",
   "metadata": {},
   "source": [
    "#### Circuit"
   ]
  },
  {
   "cell_type": "markdown",
   "id": "d5907436-e58d-429e-ad17-c05732147432",
   "metadata": {},
   "source": [
    "This lab uses the [`EfficientSU2`](https://docs.quantum.ibm.com/api/qiskit/qiskit.circuit.library.EfficientSU2) circuit included in Qiskit's circuit library.\n",
    "\n",
    "EfficientSU2 is a parameterized quantum circuit designed to be efficiently executable on quantum hardware with limited qubit connectivity, while still being expressive enough to solve problems in application domains like optimization and chemistry. It is built by alternating layers of parameterized single-qubit gates with a layer containing a fixed pattern of two-qubit gates, for a chosen number of repetitions. The pattern of two-qubit gates can be specified by the user. Here you can use the built-in pairwise pattern because it minimizes the circuit depth by packing the two-qubit gates as densely as possible."
   ]
  },
  {
   "cell_type": "code",
   "execution_count": 2,
   "id": "adcce344-f41c-444a-b23a-5a203a37f890",
   "metadata": {},
   "outputs": [],
   "source": [
    "from qiskit.circuit.library import EfficientSU2\n",
    "\n",
    "num_qubits = 50\n",
    "reps = 2\n",
    "abstract_circuit = EfficientSU2(num_qubits, reps=reps, entanglement=\"pairwise\")"
   ]
  },
  {
   "cell_type": "markdown",
   "id": "7b79227a-fa15-48f3-8e53-f80ac3dd5814",
   "metadata": {},
   "source": [
    "##### Assign parameters"
   ]
  },
  {
   "cell_type": "markdown",
   "id": "37351339-f1ca-4827-a693-5d4587dbe93f",
   "metadata": {},
   "source": [
    "Next, create some random parameters and assign them to the circuit."
   ]
  },
  {
   "cell_type": "code",
   "execution_count": 3,
   "id": "83e883bc-d145-478e-8ae7-6e20493cdf93",
   "metadata": {},
   "outputs": [],
   "source": [
    "import numpy as np\n",
    "\n",
    "num_parameters = abstract_circuit.num_parameters\n",
    "param_values = np.random.uniform(-np.pi, np.pi, size=num_parameters)\n",
    "\n",
    "abstract_circuit.assign_parameters(param_values, inplace=True)"
   ]
  },
  {
   "cell_type": "markdown",
   "id": "424f2a73-ff72-4548-b007-ef233ecb39c8",
   "metadata": {},
   "source": [
    "##### Append uncompute block"
   ]
  },
  {
   "cell_type": "markdown",
   "id": "c7bfc6a4-45ff-4638-b854-fe0f7c0c238f",
   "metadata": {},
   "source": [
    "At the end of the lab, you want to compare the output of the quantum computer with the ideal answer. For small quantum circuits you can calculate this value by simulating the circuit on a classical computer, but this is not possible for larger, utility-scale circuits. You can work around this issue with the \"mirror circuit\" technique (also known as \"compute-uncompute\"), which is useful for benchmarking the performance of quantum devices.\n",
    "\n",
    "In the mirror circuit technique, you concatenate the circuit with its inverse, which is formed by inverting each gate of the circuit in reverse order. The resulting circuit implements the identity operator, which can trivially be simulated. Because the structure of the original circuit is preserved in the mirror circuit, executing the mirror circuit still gives an idea of how the quantum device would perform on the original circuit.\n",
    "\n",
    "The following code cell constructs the mirror circuit using the [`UnitaryOverlap`](https://docs.quantum.ibm.com/api/qiskit/qiskit.circuit.library.UnitaryOverlap) class from Qiskit's circuit library. Before mirroring the circuit, append a barrier instruction to it to prevent the transpiler from merging the two parts of the circuit on either side of the barrier. Without the barrier, the transpiler would merge the original circuit with its inverse, resulting in a transpiled circuit without any gates."
   ]
  },
  {
   "cell_type": "code",
   "execution_count": 4,
   "id": "d2f6a853-e23c-4b5f-8f53-a525ba110932",
   "metadata": {},
   "outputs": [],
   "source": [
    "from qiskit.circuit.library import UnitaryOverlap\n",
    "\n",
    "abstract_circuit.barrier()\n",
    "abstract_circuit = UnitaryOverlap(abstract_circuit, abstract_circuit)"
   ]
  },
  {
   "cell_type": "markdown",
   "id": "4df05918",
   "metadata": {},
   "source": [
    "It is recommended to draw the circuit to visualize what you are going to run. However, a 50-qubit circuit may be too dense to visualize effectively. Therefore, create a smaller abstract circuit with 4 qubits by following the above steps (i.e., create a 4-qubit `EfficientSU2` circuit, assign parameters, and append uncomput block). Then, draw the circuit by following one of the [visualization techniques](https://docs.quantum.ibm.com/build/circuit-visualization). Note that the 4-qubit circuit is only for visualization. You must execute the 50-qubit circuit with error mitigation and suppression."
   ]
  },
  {
   "cell_type": "markdown",
   "id": "d7610c00-c613-42b9-8113-98b07566372d",
   "metadata": {},
   "source": [
    "#### Observables"
   ]
  },
  {
   "cell_type": "markdown",
   "id": "6e4638e9-4674-45df-970b-4ee41976fd1b",
   "metadata": {},
   "source": [
    "Next, define the observables. You will create weight-1 $\\langle Z_i \\rangle$ observables for each qubit in the circuit. Example: For a $4$-qubit abstract circuit, you will create $4$ observables each with a single $\\langle Z \\rangle$ acting on a different qubit, i.e., $IIIZ$, $IIZI$, $IZII$, and $ZIII$."
   ]
  },
  {
   "cell_type": "code",
   "execution_count": 5,
   "id": "4ce6d99c-cef8-4144-ab3a-62434f18b583",
   "metadata": {},
   "outputs": [],
   "source": [
    "from qiskit.quantum_info import SparsePauliOp\n",
    "\n",
    "paulis = [\"\".join(\"Z\" if i == q else \"I\" for i in range(num_qubits)) for q in range(num_qubits)]\n",
    "abstract_observables = [SparsePauliOp(pauli) for pauli in paulis]"
   ]
  },
  {
   "cell_type": "markdown",
   "id": "0245e086-c0f2-48b1-a8ea-7f2c8479e191",
   "metadata": {},
   "source": [
    "### Optimize"
   ]
  },
  {
   "cell_type": "markdown",
   "id": "864b7424-4c46-44e9-a76c-00c24732bcc0",
   "metadata": {},
   "source": [
    "You must optimize your circuit (and observables) and make them target hardware compatible before executing. You need to choose the hardware device to use before optimizing your circuit. The following code cell requests the least busy utility-scale device with at least 127 qubits."
   ]
  },
  {
   "cell_type": "code",
   "execution_count": 19,
   "id": "4ae2b894-cc8a-4cdd-99a8-271fdee5d3fb",
   "metadata": {},
   "outputs": [
    {
     "data": {
      "text/plain": [
       "'ibm_brisbane'"
      ]
     },
     "execution_count": 19,
     "metadata": {},
     "output_type": "execute_result"
    }
   ],
   "source": [
    "from qiskit_ibm_runtime import QiskitRuntimeService\n",
    "\n",
    "service = QiskitRuntimeService()\n",
    "backend = service.least_busy(min_num_qubits=127)\n",
    "backend.name"
   ]
  },
  {
   "cell_type": "code",
   "execution_count": 13,
   "id": "25174420",
   "metadata": {},
   "outputs": [],
   "source": [
    "backend = backend"
   ]
  },
  {
   "cell_type": "code",
   "execution_count": 14,
   "id": "6a5764a0",
   "metadata": {},
   "outputs": [
    {
     "data": {
      "text/plain": [
       "'ibm_brisbane'"
      ]
     },
     "execution_count": 14,
     "metadata": {},
     "output_type": "execute_result"
    }
   ],
   "source": [
    "backend.name"
   ]
  },
  {
   "cell_type": "markdown",
   "id": "9a8e9161-0bf3-4eb7-9e47-0465bf4f4765",
   "metadata": {},
   "source": [
    "#### Target circuit"
   ]
  },
  {
   "cell_type": "markdown",
   "id": "526f28f9-e05f-4bfc-a686-da9f54dae4bd",
   "metadata": {},
   "source": [
    "Optimizing you circuit involves transpiling it for your chosen backend. You can transpile your circuit by creating a pass manager and then running the pass manager on the circuit. An easy way to create a pass manager is to use the [`generate_preset_pass_manager`](https://docs.quantum.ibm.com/api/qiskit/transpiler_preset#qiskit.transpiler.preset_passmanagers.generate_preset_pass_manager) function. You have learnt about transpilation and pass managers in an earlier lab."
   ]
  },
  {
   "cell_type": "code",
   "execution_count": 7,
   "id": "b3383a3f-33df-49ee-bbed-4d3b124ab06b",
   "metadata": {},
   "outputs": [],
   "source": [
    "from qiskit.transpiler.preset_passmanagers import generate_preset_pass_manager\n",
    "\n",
    "pm = generate_preset_pass_manager(backend=backend, optimization_level=3)\n",
    "target_circuit = pm.run(abstract_circuit)"
   ]
  },
  {
   "cell_type": "markdown",
   "id": "34d1a74c-d861-4596-87e0-4379231a0001",
   "metadata": {},
   "source": [
    "#### Target observables"
   ]
  },
  {
   "cell_type": "markdown",
   "id": "be3bf6d6-09ca-47fd-8191-88d1247de934",
   "metadata": {},
   "source": [
    "The transpilation process has mapped the virtual qubits of the abstract circuit to physical qubits on the hardware. The information about the qubit layout is stored in the layout attribute of the transpiled target circuit. The observables were defined in terms of the virtual qubits, so you need to apply this layout to the observables, which you can do with the [`apply_layout`](https://docs.quantum.ibm.com/api/qiskit/qiskit.quantum_info.SparsePauliOp#apply_layout) method of `SparsePauliOp`."
   ]
  },
  {
   "cell_type": "code",
   "execution_count": 8,
   "id": "0dffc766-c698-45c7-999b-215584d3c85c",
   "metadata": {},
   "outputs": [],
   "source": [
    "layout = target_circuit.layout\n",
    "target_observables = [abs_obs.apply_layout(layout=layout) for abs_obs in abstract_observables]"
   ]
  },
  {
   "cell_type": "markdown",
   "id": "a99266be-5f25-4078-8c7c-20dd7ba94119",
   "metadata": {},
   "source": [
    "### Execute\n",
    "(_Excercises_)"
   ]
  },
  {
   "cell_type": "markdown",
   "id": "e821a897-411e-4fad-9532-0b073355c414",
   "metadata": {},
   "source": [
    "Now, execute the target circuit and observables with different configurations of error suppression and mitigation from the `Estimator` primitive. You will perform **seven excercises** where you submit seven different jobs (each with same circuit and observables) with following settings.\n",
    "\n",
    "- **Excercise-1**: No suppression/mitigation (_worked out for reference_)\n",
    "- **Excercise-2**: Dynamical Decoupling\n",
    "- **Excercise-3**: Measurement Mitigation (TREX)\n",
    "- **Excercise-4**: Zero Noise Extrapolation (ZNE)\n",
    "   - _Excercise-4a_: ZNE (exponential extrapolator)\n",
    "   - _Excercise-4b_: ZNE (linear extrapolator)\n",
    "- **Excercise-5**: ZNE + Gate Twirling\n",
    "- **Excercise-6**: All\n",
    "\n",
    "You need to refer to Qiskit Runtime docs to successfully complete the excercises in this lab. Some helpful and necessary links are below:\n",
    "1. https://docs.quantum.ibm.com/run/error-mitigation-explanation\n",
    "2. https://docs.quantum.ibm.com/run/configure-error-mitigation\n",
    "3. https://docs.quantum.ibm.com/api/qiskit-ibm-runtime/options\n",
    "   - https://docs.quantum.ibm.com/api/qiskit-ibm-runtime/qiskit_ibm_runtime.options.EstimatorOptions\n",
    "   - https://docs.quantum.ibm.com/api/qiskit-ibm-runtime/qiskit_ibm_runtime.options.DynamicalDecouplingOptions\n",
    "   - https://docs.quantum.ibm.com/api/qiskit-ibm-runtime/qiskit_ibm_runtime.options.ResilienceOptionsV2\n",
    "   - https://docs.quantum.ibm.com/api/qiskit-ibm-runtime/qiskit_ibm_runtime.options.MeasureNoiseLearningOptions\n",
    "   - https://docs.quantum.ibm.com/api/qiskit-ibm-runtime/qiskit_ibm_runtime.options.TwirlingOptions\n",
    "   - https://docs.quantum.ibm.com/api/qiskit-ibm-runtime/qiskit_ibm_runtime.options.ZneOptions\n",
    "  \n",
    "Read the comments in the next code cell for deatils of each excercise and hints.\n",
    "\n",
    "**Note 1**\n",
    "\n",
    "Some suppression and mitigation options are enabled by default (e.g., measurement twirling is enabled by default). Therefore, if you want to selectively enable one or more options, inspect the default options first and explicitly disable unwanted options, if necessary.\n",
    "\n",
    "One way is to [turn off all mitigation and suppression first](https://docs.quantum.ibm.com/run/configure-error-mitigation#turn-off-all-error-mitigation-and-error-suppression), then selectively turn on your desired options.\n",
    "\n",
    "Also, refer to the [Qiskit Runtime API docs](https://docs.quantum.ibm.com/api/qiskit-ibm-runtime) for default options.\n",
    "\n",
    "**Note 2**\n",
    "\n",
    "It is recommended to submit multiple non-iterative jobs inside a [`Batch`](https://docs.quantum.ibm.com/api/qiskit-ibm-runtime/qiskit_ibm_runtime.Batch) [execution mode](https://docs.quantum.ibm.com/run/execution-modes) of Qiskit Runtime (See also [Run jobs in batch](https://docs.quantum.ibm.com/run/run-jobs-batch)) to leverage the parallelization offered by batch and minimize delay between jobs. For example, if you are an open plan users, you can submit $3$ jobs together in the `Batch` execution mode."
   ]
  },
  {
   "cell_type": "code",
   "execution_count": 24,
   "id": "5339ee18-2fc8-4b10-b5af-62c67ef642d7",
   "metadata": {},
   "outputs": [],
   "source": [
    "from qiskit_ibm_runtime import EstimatorV2 as Estimator, EstimatorOptions, Batch\n",
    "\n",
    "# Define the primitive unified bloc (PUB) for Estimator jobs\n",
    "# More on PUB: https://docs.quantum.ibm.com/api/qiskit/primitives\n",
    "pub = (target_circuit, target_observables)\n",
    "default_shots = 10_000\n",
    "\n",
    "# list for saving job results\n",
    "primitive_results = []\n",
    "\n",
    "backend = 'ibm_brisbane'\n",
    "# Excercise-1: No mitigation (worked out for you)\n",
    "## https://docs.quantum.ibm.com/run/configure-error-mitigation#turn-off-all-error-mitigation-and-error-suppression\n",
    "options_ex1 = EstimatorOptions() # some suppression and mitigation are enabled by default\n",
    "options_ex1.optimization_level = 0\n",
    "options_ex1.resilience_level = 0\n",
    "options_ex1.default_shots = default_shots\n",
    "    \n",
    "# Instantiate `Estimator` with options\n",
    "estimator = Estimator(backend, options=options_ex1 )\n",
    "# Submit job\n",
    "job_ex1 = estimator.run(pubs=[pub])\n",
    "    \n",
    "primitive_results.append(job_ex1.result())"
   ]
  },
  {
   "cell_type": "code",
   "execution_count": 37,
   "id": "ea6631f1",
   "metadata": {
    "scrolled": true
   },
   "outputs": [
    {
     "name": "stdout",
     "output_type": "stream",
     "text": [
      "PubResult(data=DataBin(evs=np.ndarray(<shape=(50,), dtype=float64>), stds=np.ndarray(<shape=(50,), dtype=float64>), ensemble_standard_error=np.ndarray(<shape=(50,), dtype=float64>)), metadata={'shots': 10000, 'target_precision': 0.01, 'circuit_metadata': {}, 'num_randomizations': 1})\n"
     ]
    }
   ],
   "source": [
    "PubResult = primitive_results[0][0]\n",
    "print(PubResult)"
   ]
  },
  {
   "cell_type": "code",
   "execution_count": 49,
   "id": "204315be",
   "metadata": {},
   "outputs": [],
   "source": [
    "evs = PubResult.data.evs"
   ]
  },
  {
   "cell_type": "code",
   "execution_count": 53,
   "id": "e8405338",
   "metadata": {},
   "outputs": [],
   "source": [
    "tt  = 0\n",
    "for i in range(len(evs)):\n",
    "    tt += evs[i]\n",
    "avg_exp = tt/len(evs)"
   ]
  },
  {
   "cell_type": "code",
   "execution_count": 54,
   "id": "06f439f6",
   "metadata": {
    "scrolled": true
   },
   "outputs": [
    {
     "name": "stdout",
     "output_type": "stream",
     "text": [
      "0.5653519999999999\n"
     ]
    }
   ],
   "source": [
    "print(avg_exp)"
   ]
  },
  {
   "cell_type": "code",
   "execution_count": 55,
   "id": "e4e040e8",
   "metadata": {},
   "outputs": [
    {
     "name": "stdout",
     "output_type": "stream",
     "text": [
      "[0.5653519999999999]\n"
     ]
    }
   ],
   "source": [
    "avg_value_list = []\n",
    "avg_value_list.append(avg_exp)\n",
    "print(avg_value_list)"
   ]
  },
  {
   "cell_type": "code",
   "execution_count": 72,
   "id": "0e1d640b",
   "metadata": {},
   "outputs": [],
   "source": [
    "backend = 'ibm_brisbane'\n",
    "# Excercise-2: Dynamical Decoupling (DD)\n",
    "options_ex2 = EstimatorOptions()\n",
    "    #no error mitigation or suppression happening by default\n",
    "    \n",
    "\"\"\"Your code goes here.\n",
    "        \n",
    "    Configure options to only enable DD with a 'XX' sequence.\n",
    "        \n",
    "    Hint: First, turn off all error suppression and mitigation. Then, turn on DD related options only.\n",
    "    1. https://docs.quantum.ibm.com/api/qiskit-ibm-runtime/qiskit_ibm_runtime.options.EstimatorOptions\n",
    "    2. https://docs.quantum.ibm.com/api/qiskit-ibm-runtime/qiskit_ibm_runtime.options.DynamicalDecouplingOptions\n",
    "    3. https://docs.quantum.ibm.com/run/error-mitigation-explanation#dynamical-decoupling\n",
    "\"\"\"\n",
    "    \n",
    "options_ex2.optimization_level = 0\n",
    "options_ex2.resilience_level = 0\n",
    "options_ex2.default_shots = default_shots\n",
    "options_ex2.dynamical_decoupling.enable = True\n",
    "options_ex2.dynamical_decoupling.sequence_type = 'XX'\n",
    "options_ex2.dynamical_decoupling.extra_slack_distribution = 'middle'\n",
    "options_ex2.dynamical_decoupling.scheduling_method = 'alap'\n",
    "# Instantiate `Estimator` with options\n",
    "estimator = Estimator(backend, options=options_ex2)\n",
    "# Submit job\n",
    "job_ex2 = estimator.run(pubs=[pub])\n",
    "    \n",
    "primitive_results.append(job_ex2.result())\n",
    "\n"
   ]
  },
  {
   "cell_type": "code",
   "execution_count": 76,
   "id": "5b202a30",
   "metadata": {},
   "outputs": [
    {
     "name": "stdout",
     "output_type": "stream",
     "text": [
      "PubResult(data=DataBin(evs=np.ndarray(<shape=(50,), dtype=float64>), stds=np.ndarray(<shape=(50,), dtype=float64>), ensemble_standard_error=np.ndarray(<shape=(50,), dtype=float64>)), metadata={'shots': 10000, 'target_precision': 0.01, 'circuit_metadata': {}, 'num_randomizations': 1})\n"
     ]
    }
   ],
   "source": [
    "print(primitive_results[1][0])"
   ]
  },
  {
   "cell_type": "code",
   "execution_count": 77,
   "id": "bee9b1b7",
   "metadata": {},
   "outputs": [
    {
     "name": "stdout",
     "output_type": "stream",
     "text": [
      "[0.5653519999999999, 0.6778839999999998]\n"
     ]
    }
   ],
   "source": [
    "PubResult = primitive_results[1][0]\n",
    "evs = PubResult.data.evs\n",
    "tt  = 0\n",
    "for i in range(len(evs)):\n",
    "    tt += evs[i]\n",
    "avg_exp = tt/len(evs)\n",
    "avg_value_list.append(avg_exp)\n",
    "print(avg_value_list)"
   ]
  },
  {
   "cell_type": "code",
   "execution_count": 78,
   "id": "6c8c97da",
   "metadata": {},
   "outputs": [],
   "source": [
    "backend = 'ibm_brisbane'\n",
    "options_ex3 = EstimatorOptions()\n",
    "#no error mitigation or suppression happening by default\n",
    "options_ex3.optimization_level = 0\n",
    "options_ex3.resilience_level = 0\n",
    "options_ex3.default_shots = default_shots\n",
    "#Configure options to enable measurement mitigation only.\n",
    "# Excercise-3: Measurement mitigation (TREX)\n",
    "\"\"\"Your code goes here.\n",
    "    Configure options to enable measurement mitigation only.\n",
    "    Hint:\n",
    "        1. https://docs.quantum.ibm.com/api/qiskit-ibm-runtime/qiskit_ibm_runtime.options.EstimatorOptions\n",
    "        2. https://docs.quantum.ibm.com/api/qiskit-ibm-runtime/qiskit_ibm_runtime.options.ResilienceOptionsV2\n",
    "        3. https://docs.quantum.ibm.com/api/qiskit-ibm-runtime/qiskit_ibm_runtime.options.TwirlingOptions\n",
    "        4. https://docs.quantum.ibm.com/run/configure-error-mitigation\n",
    "\"\"\"\n",
    "options_ex3.resilience.measure_mitigation = True\n",
    "options_ex3.resilience.measure_noise_learning.num_randomizations = 32\n",
    "options_ex3.resilience.measure_noise_learning.shots_per_randomization = 'auto'\n",
    "\n",
    "options_ex3.twirling.enable_measure =True\n",
    "# Instantiate `Estimator` with options\n",
    "estimator = Estimator(backend, options=options_ex3)\n",
    "# Submit job\n",
    "job_ex3 = estimator.run(pubs=[pub])\n",
    "    \n",
    "primitive_results.append(job_ex3.result())\n",
    "\n"
   ]
  },
  {
   "cell_type": "code",
   "execution_count": 79,
   "id": "f4b84f29",
   "metadata": {},
   "outputs": [
    {
     "name": "stdout",
     "output_type": "stream",
     "text": [
      "[0.5653519999999999, 0.6778839999999998, 0.6931920000000003]\n"
     ]
    }
   ],
   "source": [
    "PubResult = primitive_results[2][0]\n",
    "evs = PubResult.data.evs\n",
    "tt  = 0\n",
    "for i in range(len(evs)):\n",
    "    tt += evs[i]\n",
    "avg_exp = tt/len(evs)\n",
    "avg_value_list.append(avg_exp)\n",
    "print(avg_value_list)"
   ]
  },
  {
   "cell_type": "code",
   "execution_count": 108,
   "id": "2be7d33c",
   "metadata": {},
   "outputs": [],
   "source": [
    "backend = 'ibm_brisbane'\n",
    "# Excercise-4a: Zero Noise Extrapolation (extrapolator=\"exponential\" | noise_factors=(1, 3, 5))\n",
    "options_ex4a = EstimatorOptions()\n",
    "options_ex4a.default_shots = default_shots\n",
    "\"\"\"Your code goes here.\n",
    "    Configure options to only enable ZNE with the exponential extrapolator and default noise factors (1, 3, 5).\n",
    "    Hint:\n",
    "            1. https://docs.quantum.ibm.com/api/qiskit-ibm-runtime/qiskit_ibm_runtime.options.EstimatorOptions\n",
    "            2. https://docs.quantum.ibm.com/api/qiskit-ibm-runtime/qiskit_ibm_runtime.options.ResilienceOptionsV2\n",
    "            3. https://docs.quantum.ibm.com/api/qiskit-ibm-runtime/qiskit_ibm_runtime.options.ZneOptions\n",
    "\"\"\"\n",
    "#no error mitigation or suppression happening by default\n",
    "options_ex4a.optimization_level = 0\n",
    "options_ex4a.resilience_level = 0\n",
    "#ZNE \n",
    "options_ex4a.resilience.zne_mitigation = True\n",
    "options_ex4a.resilience.zne.noise_factors = (1, 3, 5)\n",
    "options_ex4a.resilience.zne.extrapolator = 'exponential'\n",
    "# Instantiate `Estimator` with options\n",
    "estimator = Estimator(backend, options=options_ex4a)\n",
    "# Submit job\n",
    "job_ex4a = estimator.run(pubs=[pub])\n",
    "    \n",
    "primitive_results.append(job_ex4a.result())\n",
    "\n"
   ]
  },
  {
   "cell_type": "code",
   "execution_count": 109,
   "id": "1c3172c1",
   "metadata": {},
   "outputs": [
    {
     "name": "stdout",
     "output_type": "stream",
     "text": [
      "[0.5653519999999999, 0.6778839999999998, 0.6931920000000003, 1.5987570738834262]\n"
     ]
    }
   ],
   "source": [
    "PubResult = primitive_results[3][0]\n",
    "evs = PubResult.data.evs\n",
    "tt  = 0\n",
    "for i in range(len(evs)):\n",
    "    tt += evs[i]\n",
    "avg_exp = tt/len(evs)\n",
    "avg_value_list.append(avg_exp)\n",
    "print(avg_value_list)"
   ]
  },
  {
   "cell_type": "code",
   "execution_count": 110,
   "id": "c71129a7",
   "metadata": {},
   "outputs": [],
   "source": [
    "backend = 'ibm_brisbane'\n",
    "\n",
    "# Excercise-4b: Zero Noise Extrapolation (use: extrapolator=\"linear\" and noise_factors=(1, 3, 5))\n",
    "options_ex4b = EstimatorOptions()\n",
    "options_ex4b.default_shots = default_shots\n",
    "\"\"\"Your code goes here.\n",
    "        \n",
    "        Configure options to only enable ZNE with the linear extrapolator and default noise factors (1, 3, 5).\n",
    "        \n",
    "        Hint:\n",
    "            1. https://docs.quantum.ibm.com/api/qiskit-ibm-runtime/qiskit_ibm_runtime.options.EstimatorOptions\n",
    "            2. https://docs.quantum.ibm.com/api/qiskit-ibm-runtime/qiskit_ibm_runtime.options.ResilienceOptionsV2\n",
    "            3. https://docs.quantum.ibm.com/api/qiskit-ibm-runtime/qiskit_ibm_runtime.options.ZneOptions\n",
    "\"\"\"\n",
    "#no error mitigation or suppression happening by default\n",
    "options_ex4b.optimization_level = 0\n",
    "options_ex4b.resilience_level = 0\n",
    "#ZNE \n",
    "options_ex4b.resilience.zne_mitigation = True\n",
    "options_ex4b.resilience.zne.noise_factors = (1, 3, 5)\n",
    "options_ex4b.resilience.zne.extrapolator = 'linear'\n",
    "# Instantiate `Estimator` with options\n",
    "estimator = Estimator(backend, options=options_ex4b)\n",
    "# Submit job\n",
    "job_ex4b = estimator.run(pubs=[pub])\n",
    "    \n",
    "primitive_results.append(job_ex4b.result())\n"
   ]
  },
  {
   "cell_type": "code",
   "execution_count": 111,
   "id": "aa949368",
   "metadata": {},
   "outputs": [
    {
     "name": "stdout",
     "output_type": "stream",
     "text": [
      "[0.5653519999999999, 0.6778839999999998, 0.6931920000000003, 1.5987570738834262, 0.711914172250964]\n"
     ]
    }
   ],
   "source": [
    "PubResult = primitive_results[4][0]\n",
    "evs = PubResult.data.evs\n",
    "tt  = 0\n",
    "for i in range(len(evs)):\n",
    "    tt += evs[i]\n",
    "avg_exp = tt/len(evs)\n",
    "avg_value_list.append(avg_exp)\n",
    "print(avg_value_list)"
   ]
  },
  {
   "cell_type": "code",
   "execution_count": 113,
   "id": "8726fa5c",
   "metadata": {},
   "outputs": [],
   "source": [
    "backend = 'ibm_brisbane'\n",
    "\n",
    " # Excercise-5: Gate Twirling + Zero Noise Extrapolation (use: extrapolator=(\"exponential\", \"linear\") and noise_factors=(1, 3, 5))\n",
    "options_ex5 = EstimatorOptions()\n",
    "options_ex5.default_shots = default_shots\n",
    "\"\"\"Your code goes here.\n",
    "    \n",
    "        Configure options to enable gate twirling and ZNE.\n",
    "        Instead of a single extrapolator, set a sequence of extrapolators, i.e., (\"exponential\", \"linear\"), in ZneOptions. \n",
    "        Make sure to turn off any measurment twirling and measurement mitigation.\n",
    "        \n",
    "        Hint:\n",
    "            1. https://docs.quantum.ibm.com/api/qiskit-ibm-runtime/qiskit_ibm_runtime.options.EstimatorOptions\n",
    "            2. https://docs.quantum.ibm.com/api/qiskit-ibm-runtime/qiskit_ibm_runtime.options.ResilienceOptionsV2\n",
    "            3. https://docs.quantum.ibm.com/api/qiskit-ibm-runtime/qiskit_ibm_runtime.options.ZneOptions\n",
    "            4. https://docs.quantum.ibm.com/api/qiskit-ibm-runtime/qiskit_ibm_runtime.options.TwirlingOptions\n",
    "\"\"\"\n",
    "#no error mitigation or suppression happening by default\n",
    "options_ex5.optimization_level = 0\n",
    "options_ex5.resilience_level = 0\n",
    "#twirling\n",
    "options_ex5.twirling.enable_gates = True\n",
    "options_ex5.twirling.enable_measure = False\n",
    "options_ex5.twirling.num_randomizations = 'auto'\n",
    "options_ex5.twirling.shots_per_randomization = 'auto'\n",
    "options_ex5.twirling.strategy = 'active-accum'\n",
    "#ZNE \n",
    "options_ex5.resilience.zne_mitigation = True\n",
    "options_ex5.resilience.zne.noise_factors = (1, 3, 5)\n",
    "options_ex5.resilience.zne.extrapolator = ('exponential', 'linear')\n",
    "# Instantiate `Estimator` with options\n",
    "estimator = Estimator(backend, options=options_ex5)\n",
    "# Submit job\n",
    "job_ex5 = estimator.run(pubs=[pub])\n",
    "    \n",
    "primitive_results.append(job_ex5.result())\n"
   ]
  },
  {
   "cell_type": "code",
   "execution_count": 114,
   "id": "419ee3a3",
   "metadata": {},
   "outputs": [
    {
     "name": "stdout",
     "output_type": "stream",
     "text": [
      "[0.5653519999999999, 0.6778839999999998, 0.6931920000000003, 1.5987570738834262, 0.711914172250964, 1.1211714795821346]\n"
     ]
    }
   ],
   "source": [
    "PubResult = primitive_results[5][0]\n",
    "evs = PubResult.data.evs\n",
    "tt  = 0\n",
    "for i in range(len(evs)):\n",
    "    tt += evs[i]\n",
    "avg_exp = tt/len(evs)\n",
    "avg_value_list.append(avg_exp)\n",
    "print(avg_value_list)"
   ]
  },
  {
   "cell_type": "code",
   "execution_count": 116,
   "id": "e476ea7d",
   "metadata": {},
   "outputs": [],
   "source": [
    "backend = 'ibm_brisbane'\n",
    "\n",
    "# Submit Exercise 6 in Job execution mode as it is a single job\n",
    "# Excercise-6: All\n",
    "options_ex6 = EstimatorOptions()\n",
    "options_ex6.default_shots = default_shots\n",
    "\n",
    "\"\"\"Your code goes here.\n",
    "    \n",
    "    Configure options to enable all suppression and mitigation options, i.e., DD, measurement mitigation,\n",
    "    gate twirling, and ZNE. Keep using the same sequence of extrapolators and noise factors from excercise-5 for ZNE.\n",
    "    \n",
    "    Hint:\n",
    "        1. https://docs.quantum.ibm.com/api/qiskit-ibm-runtime/qiskit_ibm_runtime.options.EstimatorOptions\n",
    "        2. https://docs.quantum.ibm.com/api/qiskit-ibm-runtime/qiskit_ibm_runtime.options.DynamicalDecouplingOptions\n",
    "        3. https://docs.quantum.ibm.com/run/configure-error-mitigation#configure-estimator-v2-with-resilience-levels\n",
    "\"\"\"\n",
    "#no error mitigation or suppression happening by default\n",
    "options_ex5.optimization_level = 0\n",
    "options_ex5.resilience_level = 2\n",
    "# Note: explicitly set `mode=backend` in Job execution mode.\n",
    "# Inside Batch context manager, `Estimator` knows the context/backend implicitly\n",
    "# However, without the context manager, we must set `mode` explicitly\n",
    "options_ex6.dynamical_decoupling.enable = True\n",
    "options_ex6.dynamical_decoupling.sequence_type = 'XX'\n",
    "options_ex6.dynamical_decoupling.extra_slack_distribution = 'middle'\n",
    "options_ex6.dynamical_decoupling.scheduling_method = 'alap'\n",
    "estimator = Estimator(backend, options=options_ex6)\n",
    "job_ex6 = estimator.run(pubs=[pub])\n",
    "primitive_results.append(job_ex6.result())\n"
   ]
  },
  {
   "cell_type": "code",
   "execution_count": 117,
   "id": "4d5964c3",
   "metadata": {},
   "outputs": [
    {
     "name": "stdout",
     "output_type": "stream",
     "text": [
      "[0.5653519999999999, 0.6778839999999998, 0.6931920000000003, 1.5987570738834262, 0.711914172250964, 1.1211714795821346, 0.708479025334004]\n"
     ]
    }
   ],
   "source": [
    "PubResult = primitive_results[6][0]\n",
    "evs = PubResult.data.evs\n",
    "tt  = 0\n",
    "for i in range(len(evs)):\n",
    "    tt += evs[i]\n",
    "avg_exp = tt/len(evs)\n",
    "avg_value_list.append(avg_exp)\n",
    "print(avg_value_list)"
   ]
  },
  {
   "cell_type": "code",
   "execution_count": 121,
   "id": "faf41759",
   "metadata": {},
   "outputs": [
    {
     "data": {
      "image/png": "[encoded data removed]",
      "text/plain": [
       "<Figure size 640x480 with 1 Axes>"
      ]
     },
     "metadata": {},
     "output_type": "display_data"
    }
   ],
   "source": [
    "import matplotlib.pyplot as plt\n",
    "\n",
    "x = ['1','2','3','4a','4b','5','6']\n",
    "y = avg_value_list\n",
    "\n",
    "# Create the plot\n",
    "plt.bar(x, y, color='blue', edgecolor='black')\n",
    "\n",
    "plt.axhline(y=1, color='r', linestyle='--')\n",
    "# Add labels and title (optional)\n",
    "plt.xlabel('Exercise')\n",
    "plt.ylabel('Expectation Values')\n",
    "plt.title('Expectation value using \\'ibm_brisbane\\' ')\n",
    "           \n",
    "# Show the plot\n",
    "plt.show()\n"
   ]
  },
  {
   "cell_type": "markdown",
   "id": "8d61e0fc-e0c4-4cbd-81ff-69282c5f6c21",
   "metadata": {},
   "source": [
    "### Analyze"
   ]
  },
  {
   "cell_type": "markdown",
   "id": "f75dc381-c4ef-4cec-bdca-ceca13092506",
   "metadata": {},
   "source": [
    "1. Each [`PrimtiveResult`](https://docs.quantum.ibm.com/api/qiskit/qiskit.primitives.PrimitiveResult) will have a list-like structure with a single [`PubResult`](https://docs.quantum.ibm.com/api/qiskit/qiskit.primitives.PubResult) (as we submitted a single PUB).\n",
    "   - The `PubResult` will contain an array of expectation values each corresponding to an observable inside its [`data`](https://docs.quantum.ibm.com/api/qiskit/qiskit.primitives.DataBin) container (`pub_result.data.evs`). For each qubit in the `abstract_circuit`, we have one weight-1 $\\langle Z \\rangle$ observable.\n",
    "2. Compute the average of expectation values in each `PubResult`.\n",
    "3. Plot (bar chart) average expectation values and analyze how different error suppression and mitigation methods are improving results. Note that due the compute-uncompute structure of the circuit, the ideal average expecation value is $1.0$ for each job respectively. \n",
    "\n",
    "Now, try to understand the results based on the knowledge from the lecture. We suggest looking at the structure of the circuit by following one of the visualization methods described [here](https://docs.quantum.ibm.com/build/circuit-visualization)."
   ]
  },
  {
   "cell_type": "code",
   "execution_count": null,
   "id": "ecc98782-10c6-4fb1-b143-a5ad50e8f5e8",
   "metadata": {},
   "outputs": [],
   "source": []
  },
  {
   "cell_type": "code",
   "execution_count": 122,
   "id": "e1002c8d-bb39-43d0-92e0-486e7669f04f",
   "metadata": {},
   "outputs": [
    {
     "data": {
      "text/html": [
       "<div style='width: 100%; background-color:#d5d9e0;padding-left: 10px; padding-bottom: 10px; padding-right: 10px; padding-top: 5px'><p>&copy; Copyright IBM 2017, 2024.</p><p>This code is licensed under the Apache License, Version 2.0. You may<br>obtain a copy of this license in the LICENSE.txt file in the root directory<br> of this source tree or at http://www.apache.org/licenses/LICENSE-2.0.<p>Any modifications or derivative works of this code must retain this<br>copyright notice, and modified files need to carry a notice indicating<br>that they have been altered from the originals.</p></div>"
      ],
      "text/plain": [
       "<IPython.core.display.HTML object>"
      ]
     },
     "metadata": {},
     "output_type": "display_data"
    }
   ],
   "source": [
    "import datetime\n",
    "from IPython.display import HTML, display\n",
    "\n",
    "\n",
    "def qiskit_copyright(line=\"\", cell=None):\n",
    "    \"\"\"IBM copyright\"\"\"\n",
    "    now = datetime.datetime.now()\n",
    "\n",
    "    html = \"<div style='width: 100%; background-color:#d5d9e0;\"\n",
    "    html += \"padding-left: 10px; padding-bottom: 10px; padding-right: 10px; padding-top: 5px'>\"\n",
    "    html += \"<p>&copy; Copyright IBM 2017, %s.</p>\" % now.year\n",
    "    html += \"<p>This code is licensed under the Apache License, Version 2.0. You may<br>\"\n",
    "    html += \"obtain a copy of this license in the LICENSE.txt file in the root directory<br> \"\n",
    "    html += \"of this source tree or at http://www.apache.org/licenses/LICENSE-2.0.\"\n",
    "\n",
    "    html += \"<p>Any modifications or derivative works of this code must retain this<br>\"\n",
    "    html += \"copyright notice, and modified files need to carry a notice indicating<br>\"\n",
    "    html += \"that they have been altered from the originals.</p>\"\n",
    "    html += \"</div>\"\n",
    "    return display(HTML(html))\n",
    "\n",
    "\n",
    "qiskit_copyright()"
   ]
  },
  {
   "cell_type": "code",
   "execution_count": null,
   "id": "afb4dcb2",
   "metadata": {},
   "outputs": [],
   "source": []
  }
 ],
 "metadata": {
  "kernelspec": {
   "display_name": "Qiskit",
   "language": "python",
   "name": "qiskit"
  },
  "language_info": {
   "codemirror_mode": {
    "name": "ipython",
    "version": 3
   },
   "file_extension": ".py",
   "mimetype": "text/x-python",
   "name": "python",
   "nbconvert_exporter": "python",
   "pygments_lexer": "ipython3",
   "version": "3.12.4"
  }
 },
 "nbformat": 4,
 "nbformat_minor": 5
}
